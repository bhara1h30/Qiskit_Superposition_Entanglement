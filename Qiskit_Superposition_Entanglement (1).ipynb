{
 "cells": [
  {
   "cell_type": "markdown",
   "id": "8a7c7b1b",
   "metadata": {},
   "source": [
    "# Superposition and Entanglement in Qiskit\n",
    "This notebook demonstrates:\n",
    "\n",
    "- **Superposition** using a single qubit.\n",
    "- **Entanglement** using two qubits.\n",
    "\n",
    "Run the cells sequentially in Jupyter Notebook / JupyterLab / VS Code."
   ]
  },
  {
   "cell_type": "code",
   "execution_count": 1,
   "id": "8ff37527",
   "metadata": {},
   "outputs": [
    {
     "name": "stderr",
     "output_type": "stream",
     "text": [
      "\n",
      "[notice] A new release of pip is available: 24.0 -> 25.2\n",
      "[notice] To update, run: C:\\Users\\bhara\\AppData\\Local\\Microsoft\\WindowsApps\\PythonSoftwareFoundation.Python.3.11_qbz5n2kfra8p0\\python.exe -m pip install --upgrade pip\n",
      "\n",
      "[notice] A new release of pip is available: 24.0 -> 25.2\n",
      "[notice] To update, run: C:\\Users\\bhara\\AppData\\Local\\Microsoft\\WindowsApps\\PythonSoftwareFoundation.Python.3.11_qbz5n2kfra8p0\\python.exe -m pip install --upgrade pip\n"
     ]
    }
   ],
   "source": [
    "\n",
    "!pip install qiskit --quiet\n",
    "!pip install qiskit-aer --quiet\n"
   ]
  },
  {
   "cell_type": "code",
   "execution_count": 2,
   "id": "1b10009e",
   "metadata": {},
   "outputs": [],
   "source": [
    "\n",
    "from qiskit import QuantumCircuit\n",
    "from qiskit_aer import AerSimulator\n",
    "from qiskit.visualization import plot_histogram, plot_bloch_multivector\n",
    "from qiskit.quantum_info import Statevector\n",
    "import matplotlib.pyplot as plt\n"
   ]
  },
  {
   "cell_type": "markdown",
   "id": "c1f4470d",
   "metadata": {},
   "source": [
    "## 1. Superposition Example"
   ]
  },
  {
   "cell_type": "code",
   "execution_count": 3,
   "id": "2ca315ba",
   "metadata": {},
   "outputs": [
    {
     "data": {
      "text/html": [
       "<pre style=\"word-wrap: normal;white-space: pre;background: #fff0;line-height: 1.1;font-family: &quot;Courier New&quot;,Courier,monospace\">   ┌───┐\n",
       "q: ┤ H ├\n",
       "   └───┘</pre>"
      ],
      "text/plain": [
       "   ┌───┐\n",
       "q: ┤ H ├\n",
       "   └───┘"
      ]
     },
     "metadata": {},
     "output_type": "display_data"
    },
    {
     "name": "stdout",
     "output_type": "stream",
     "text": [
      "Superposition Measurement Counts: {'1': 519, '0': 505}\n"
     ]
    }
   ],
   "source": [
    "\n",
    "qc_super = QuantumCircuit(1)\n",
    "\n",
    "qc_super.h(0)\n",
    "\n",
    "\n",
    "display(qc_super.draw('text'))\n",
    "\n",
    "state_super = Statevector.from_instruction(qc_super)\n",
    "plot_bloch_multivector(state_super)\n",
    "plt.show()\n",
    "\n",
    "\n",
    "qc_super.measure_all()\n",
    "simulator = AerSimulator()\n",
    "job_super = simulator.run(qc_super, shots=1024)\n",
    "result_super = job_super.result()\n",
    "counts_super = result_super.get_counts()\n",
    "print(\"Superposition Measurement Counts:\", counts_super)\n",
    "plot_histogram(counts_super)\n",
    "plt.show()\n"
   ]
  },
  {
   "cell_type": "markdown",
   "id": "81d261f9",
   "metadata": {},
   "source": [
    "## 2. Entanglement Example"
   ]
  },
  {
   "cell_type": "code",
   "execution_count": 4,
   "id": "9ea9f1b9",
   "metadata": {},
   "outputs": [
    {
     "data": {
      "text/html": [
       "<pre style=\"word-wrap: normal;white-space: pre;background: #fff0;line-height: 1.1;font-family: &quot;Courier New&quot;,Courier,monospace\">     ┌───┐     \n",
       "q_0: ┤ H ├──■──\n",
       "     └───┘┌─┴─┐\n",
       "q_1: ─────┤ X ├\n",
       "          └───┘</pre>"
      ],
      "text/plain": [
       "     ┌───┐     \n",
       "q_0: ┤ H ├──■──\n",
       "     └───┘┌─┴─┐\n",
       "q_1: ─────┤ X ├\n",
       "          └───┘"
      ]
     },
     "metadata": {},
     "output_type": "display_data"
    },
    {
     "name": "stdout",
     "output_type": "stream",
     "text": [
      "Entangled Statevector: Statevector([0.70710678+0.j, 0.        +0.j, 0.        +0.j,\n",
      "             0.70710678+0.j],\n",
      "            dims=(2, 2))\n",
      "Entanglement Measurement Counts: {'11': 511, '00': 513}\n"
     ]
    }
   ],
   "source": [
    "\n",
    "qc_ent = QuantumCircuit(2)\n",
    "\n",
    "\n",
    "qc_ent.h(0)\n",
    "\n",
    "qc_ent.cx(0, 1)\n",
    "\n",
    "\n",
    "display(qc_ent.draw('text'))\n",
    "\n",
    "\n",
    "state_ent = Statevector.from_instruction(qc_ent)\n",
    "print(\"Entangled Statevector:\", state_ent)\n",
    "plot_bloch_multivector(state_ent)\n",
    "plt.show()\n",
    "\n",
    "\n",
    "qc_ent.measure_all()\n",
    "job_ent = simulator.run(qc_ent, shots=1024)\n",
    "result_ent = job_ent.result()\n",
    "counts_ent = result_ent.get_counts()\n",
    "print(\"Entanglement Measurement Counts:\", counts_ent)\n",
    "plot_histogram(counts_ent)\n",
    "plt.show()\n"
   ]
  }
 ],
 "metadata": {
  "kernelspec": {
   "display_name": "Python 3",
   "language": "python",
   "name": "python3"
  },
  "language_info": {
   "codemirror_mode": {
    "name": "ipython",
    "version": 3
   },
   "file_extension": ".py",
   "mimetype": "text/x-python",
   "name": "python",
   "nbconvert_exporter": "python",
   "pygments_lexer": "ipython3",
   "version": "3.11.9"
  }
 },
 "nbformat": 4,
 "nbformat_minor": 5
}
